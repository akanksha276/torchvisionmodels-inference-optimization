{
  "nbformat": 4,
  "nbformat_minor": 0,
  "metadata": {
    "colab": {
      "provenance": []
    },
    "kernelspec": {
      "name": "python3",
      "display_name": "Python 3"
    },
    "language_info": {
      "name": "python"
    }
  },
  "cells": [
    {
      "cell_type": "markdown",
      "source": [
        "## Inference\n",
        "\n",
        "We import the main function from the inference_optimization script and run experiments for all 3 models i.e. inceptionv3, resnet50 and vgg16 for two types of inference optimizations (low resolution optimization and torchscript). Performance results have been visualized."
      ],
      "metadata": {
        "id": "svitH7Xz43Fw"
      }
    },
    {
      "cell_type": "code",
      "source": [
        "import argparse\n",
        "import time\n",
        "import matplotlib.pyplot as plt\n",
        "from inference_optimization import main  # Importing the main function from the inference optimization script"
      ],
      "metadata": {
        "id": "HCGMGSkUuHpq"
      },
      "execution_count": 1,
      "outputs": []
    },
    {
      "cell_type": "code",
      "source": [
        "import warnings\n",
        "warnings.filterwarnings(\"ignore\")"
      ],
      "metadata": {
        "id": "ORke81ulXajX"
      },
      "execution_count": 2,
      "outputs": []
    },
    {
      "cell_type": "code",
      "source": [
        "# Function to run experiments with different parameters\n",
        "def run_experiments(models, images, optimizations):\n",
        "    execution_times = []\n",
        "    for model in models:\n",
        "        for image in images:\n",
        "            for opt in optimizations:\n",
        "                # Run the main function with different parameters\n",
        "                args = argparse.Namespace(model=model, image=image, optimization=opt)\n",
        "                start_time = time.time()\n",
        "                main(args)\n",
        "                end_time = time.time()\n",
        "                execution_time = end_time - start_time\n",
        "                execution_times.append((model, image, opt, execution_time))\n",
        "    return execution_times\n",
        "\n",
        "\n",
        "# Function to visualize the results\n",
        "def visualize_results(execution_times):\n",
        "    # Extracting data for visualization\n",
        "    models = [item[0] for item in execution_times]\n",
        "    images = [item[1] for item in execution_times]\n",
        "    optimizations = [item[2] for item in execution_times]\n",
        "    times = [item[3] for item in execution_times]\n",
        "\n",
        "    # Plotting execution times\n",
        "    plt.figure(figsize=(10, 6))\n",
        "    plt.barh(range(len(times)), times, align='center')\n",
        "    plt.yticks(range(len(times)), [f'{model}_{opt}' for model, image, opt in zip(models, images, optimizations)])\n",
        "    plt.xlabel('Execution Time (seconds)')\n",
        "    plt.title('Execution Times for Inference Optimization Experiments')\n",
        "    plt.tight_layout()\n",
        "    plt.show()\n",
        "\n",
        "if __name__ == \"__main__\":\n",
        "    models = ['inception', 'resnet', 'vgg']\n",
        "    images = ['data/dog.jpeg']\n",
        "    optimizations = ['none', 'low_resolution', 'torchscript']\n",
        "\n",
        "    # Run experiments\n",
        "    execution_times = run_experiments(models, images, optimizations)\n",
        "\n",
        "    # Visualize results\n",
        "    visualize_results(execution_times)\n"
      ],
      "metadata": {
        "colab": {
          "base_uri": "https://localhost:8080/",
          "height": 1000
        },
        "id": "PGOHexX5oAt8",
        "outputId": "917761e6-2adb-4789-ac30-f92d355e0212"
      },
      "execution_count": 4,
      "outputs": [
        {
          "output_type": "stream",
          "name": "stdout",
          "text": [
            "\n",
            "inception:\n",
            "Execution Time (Before Optimization): 0.2894 seconds\n",
            "Predicted Class Index and Label (Without Optimization): 207 :  Golden Retriever\n",
            "\n",
            "inception:\n",
            "Execution Time (With Optimization - Low Resolution): 0.4880 seconds\n",
            "Predicted Class Index and Label (With Optimization - Low Resolution): 207 :  Golden Retriever\n",
            "\n",
            "inception:\n",
            "Execution Time (With Optimization - TorchScript): 1.8789 seconds\n",
            "Predicted Class Index and Label (With Optimization - TorchScript): 207 :  Golden Retriever\n"
          ]
        },
        {
          "output_type": "stream",
          "name": "stderr",
          "text": [
            "Downloading: \"https://download.pytorch.org/models/resnet50-0676ba61.pth\" to /root/.cache/torch/hub/checkpoints/resnet50-0676ba61.pth\n",
            "100%|██████████| 97.8M/97.8M [00:00<00:00, 124MB/s]\n"
          ]
        },
        {
          "output_type": "stream",
          "name": "stdout",
          "text": [
            "\n",
            "resnet:\n",
            "Execution Time (Before Optimization): 0.2923 seconds\n",
            "Predicted Class Index and Label (Without Optimization): 207 :  Golden Retriever\n",
            "\n",
            "resnet:\n",
            "Execution Time (With Optimization - Low Resolution): 0.4380 seconds\n",
            "Predicted Class Index and Label (With Optimization - Low Resolution): 207 :  Golden Retriever\n",
            "\n",
            "resnet:\n",
            "Execution Time (With Optimization - TorchScript): 0.8895 seconds\n",
            "Predicted Class Index and Label (With Optimization - TorchScript): 207 :  Golden Retriever\n"
          ]
        },
        {
          "output_type": "stream",
          "name": "stderr",
          "text": [
            "Downloading: \"https://download.pytorch.org/models/vgg16-397923af.pth\" to /root/.cache/torch/hub/checkpoints/vgg16-397923af.pth\n",
            "100%|██████████| 528M/528M [00:10<00:00, 50.6MB/s]\n"
          ]
        },
        {
          "output_type": "stream",
          "name": "stdout",
          "text": [
            "\n",
            "vgg:\n",
            "Execution Time (Before Optimization): 0.5214 seconds\n",
            "Predicted Class Index and Label (Without Optimization): 207 :  Golden Retriever\n",
            "\n",
            "vgg:\n",
            "Execution Time (With Optimization - Low Resolution): 4.7710 seconds\n",
            "Predicted Class Index and Label (With Optimization - Low Resolution): 207 :  Golden Retriever\n",
            "\n",
            "vgg:\n",
            "Execution Time (With Optimization - TorchScript): 1.0560 seconds\n",
            "Predicted Class Index and Label (With Optimization - TorchScript): 207 :  Golden Retriever\n"
          ]
        },
        {
          "output_type": "display_data",
          "data": {
            "text/plain": [
              "<Figure size 1000x600 with 1 Axes>"
            ],
            "image/png": "[encoded data removed]"
          },
          "metadata": {}
        }
      ]
    },
    {
      "cell_type": "code",
      "source": [
        "##roboflow model inference"
      ],
      "metadata": {
        "id": "fYQqU3zvrbo7"
      },
      "execution_count": 5,
      "outputs": []
    },
    {
      "cell_type": "code",
      "source": [
        "!pip install inference-sdk"
      ],
      "metadata": {
        "colab": {
          "base_uri": "https://localhost:8080/"
        },
        "id": "_4Sg68nGZPw6",
        "outputId": "fa3fd45e-ee96-4458-a094-be81725b5954"
      },
      "execution_count": 6,
      "outputs": [
        {
          "output_type": "stream",
          "name": "stdout",
          "text": [
            "Collecting inference-sdk\n",
            "  Downloading inference_sdk-0.9.20-py3-none-any.whl (28 kB)\n",
            "Requirement already satisfied: requests>=2.0.0 in /usr/local/lib/python3.10/dist-packages (from inference-sdk) (2.31.0)\n",
            "Collecting dataclasses-json>=0.6.0 (from inference-sdk)\n",
            "  Downloading dataclasses_json-0.6.4-py3-none-any.whl (28 kB)\n",
            "Requirement already satisfied: opencv-python>=4.8.0.0 in /usr/local/lib/python3.10/dist-packages (from inference-sdk) (4.8.0.76)\n",
            "Requirement already satisfied: pillow>=9.0.0 in /usr/local/lib/python3.10/dist-packages (from inference-sdk) (9.4.0)\n",
            "Collecting supervision<1.0.0 (from inference-sdk)\n",
            "  Downloading supervision-0.19.0-py3-none-any.whl (97 kB)\n",
            "\u001b[2K     \u001b[90m━━━━━━━━━━━━━━━━━━━━━━━━━━━━━━━━━━━━━━━━\u001b[0m \u001b[32m97.1/97.1 kB\u001b[0m \u001b[31m5.9 MB/s\u001b[0m eta \u001b[36m0:00:00\u001b[0m\n",
            "\u001b[?25hRequirement already satisfied: numpy>=1.20.0 in /usr/local/lib/python3.10/dist-packages (from inference-sdk) (1.25.2)\n",
            "Requirement already satisfied: aiohttp>=3.9.0 in /usr/local/lib/python3.10/dist-packages (from inference-sdk) (3.9.3)\n",
            "Collecting backoff>=2.2.0 (from inference-sdk)\n",
            "  Downloading backoff-2.2.1-py3-none-any.whl (15 kB)\n",
            "Collecting aioresponses>=0.7.6 (from inference-sdk)\n",
            "  Downloading aioresponses-0.7.6-py2.py3-none-any.whl (11 kB)\n",
            "Requirement already satisfied: py-cpuinfo>=9.0.0 in /usr/local/lib/python3.10/dist-packages (from inference-sdk) (9.0.0)\n",
            "Requirement already satisfied: aiosignal>=1.1.2 in /usr/local/lib/python3.10/dist-packages (from aiohttp>=3.9.0->inference-sdk) (1.3.1)\n",
            "Requirement already satisfied: attrs>=17.3.0 in /usr/local/lib/python3.10/dist-packages (from aiohttp>=3.9.0->inference-sdk) (23.2.0)\n",
            "Requirement already satisfied: frozenlist>=1.1.1 in /usr/local/lib/python3.10/dist-packages (from aiohttp>=3.9.0->inference-sdk) (1.4.1)\n",
            "Requirement already satisfied: multidict<7.0,>=4.5 in /usr/local/lib/python3.10/dist-packages (from aiohttp>=3.9.0->inference-sdk) (6.0.5)\n",
            "Requirement already satisfied: yarl<2.0,>=1.0 in /usr/local/lib/python3.10/dist-packages (from aiohttp>=3.9.0->inference-sdk) (1.9.4)\n",
            "Requirement already satisfied: async-timeout<5.0,>=4.0 in /usr/local/lib/python3.10/dist-packages (from aiohttp>=3.9.0->inference-sdk) (4.0.3)\n",
            "Collecting marshmallow<4.0.0,>=3.18.0 (from dataclasses-json>=0.6.0->inference-sdk)\n",
            "  Downloading marshmallow-3.21.1-py3-none-any.whl (49 kB)\n",
            "\u001b[2K     \u001b[90m━━━━━━━━━━━━━━━━━━━━━━━━━━━━━━━━━━━━━━━━\u001b[0m \u001b[32m49.4/49.4 kB\u001b[0m \u001b[31m5.6 MB/s\u001b[0m eta \u001b[36m0:00:00\u001b[0m\n",
            "\u001b[?25hCollecting typing-inspect<1,>=0.4.0 (from dataclasses-json>=0.6.0->inference-sdk)\n",
            "  Downloading typing_inspect-0.9.0-py3-none-any.whl (8.8 kB)\n",
            "Requirement already satisfied: charset-normalizer<4,>=2 in /usr/local/lib/python3.10/dist-packages (from requests>=2.0.0->inference-sdk) (3.3.2)\n",
            "Requirement already satisfied: idna<4,>=2.5 in /usr/local/lib/python3.10/dist-packages (from requests>=2.0.0->inference-sdk) (3.6)\n",
            "Requirement already satisfied: urllib3<3,>=1.21.1 in /usr/local/lib/python3.10/dist-packages (from requests>=2.0.0->inference-sdk) (2.0.7)\n",
            "Requirement already satisfied: certifi>=2017.4.17 in /usr/local/lib/python3.10/dist-packages (from requests>=2.0.0->inference-sdk) (2024.2.2)\n",
            "Requirement already satisfied: defusedxml<0.8.0,>=0.7.1 in /usr/local/lib/python3.10/dist-packages (from supervision<1.0.0->inference-sdk) (0.7.1)\n",
            "Requirement already satisfied: matplotlib>=3.6.0 in /usr/local/lib/python3.10/dist-packages (from supervision<1.0.0->inference-sdk) (3.7.1)\n",
            "Requirement already satisfied: opencv-python-headless>=4.5.5.64 in /usr/local/lib/python3.10/dist-packages (from supervision<1.0.0->inference-sdk) (4.9.0.80)\n",
            "Requirement already satisfied: pyyaml>=5.3 in /usr/local/lib/python3.10/dist-packages (from supervision<1.0.0->inference-sdk) (6.0.1)\n",
            "Requirement already satisfied: scipy<2.0.0,>=1.10.0 in /usr/local/lib/python3.10/dist-packages (from supervision<1.0.0->inference-sdk) (1.11.4)\n",
            "Requirement already satisfied: packaging>=17.0 in /usr/local/lib/python3.10/dist-packages (from marshmallow<4.0.0,>=3.18.0->dataclasses-json>=0.6.0->inference-sdk) (24.0)\n",
            "Requirement already satisfied: contourpy>=1.0.1 in /usr/local/lib/python3.10/dist-packages (from matplotlib>=3.6.0->supervision<1.0.0->inference-sdk) (1.2.0)\n",
            "Requirement already satisfied: cycler>=0.10 in /usr/local/lib/python3.10/dist-packages (from matplotlib>=3.6.0->supervision<1.0.0->inference-sdk) (0.12.1)\n",
            "Requirement already satisfied: fonttools>=4.22.0 in /usr/local/lib/python3.10/dist-packages (from matplotlib>=3.6.0->supervision<1.0.0->inference-sdk) (4.50.0)\n",
            "Requirement already satisfied: kiwisolver>=1.0.1 in /usr/local/lib/python3.10/dist-packages (from matplotlib>=3.6.0->supervision<1.0.0->inference-sdk) (1.4.5)\n",
            "Requirement already satisfied: pyparsing>=2.3.1 in /usr/local/lib/python3.10/dist-packages (from matplotlib>=3.6.0->supervision<1.0.0->inference-sdk) (3.1.2)\n",
            "Requirement already satisfied: python-dateutil>=2.7 in /usr/local/lib/python3.10/dist-packages (from matplotlib>=3.6.0->supervision<1.0.0->inference-sdk) (2.8.2)\n",
            "Collecting mypy-extensions>=0.3.0 (from typing-inspect<1,>=0.4.0->dataclasses-json>=0.6.0->inference-sdk)\n",
            "  Downloading mypy_extensions-1.0.0-py3-none-any.whl (4.7 kB)\n",
            "Requirement already satisfied: typing-extensions>=3.7.4 in /usr/local/lib/python3.10/dist-packages (from typing-inspect<1,>=0.4.0->dataclasses-json>=0.6.0->inference-sdk) (4.10.0)\n",
            "Requirement already satisfied: six>=1.5 in /usr/local/lib/python3.10/dist-packages (from python-dateutil>=2.7->matplotlib>=3.6.0->supervision<1.0.0->inference-sdk) (1.16.0)\n",
            "Installing collected packages: mypy-extensions, marshmallow, backoff, typing-inspect, supervision, dataclasses-json, aioresponses, inference-sdk\n",
            "Successfully installed aioresponses-0.7.6 backoff-2.2.1 dataclasses-json-0.6.4 inference-sdk-0.9.20 marshmallow-3.21.1 mypy-extensions-1.0.0 supervision-0.19.0 typing-inspect-0.9.0\n"
          ]
        }
      ]
    },
    {
      "cell_type": "code",
      "source": [
        "from inference_sdk import InferenceHTTPClient\n",
        "\n",
        "CLIENT = InferenceHTTPClient(\n",
        "    api_url=\"https://classify.roboflow.com\",\n",
        "    api_key=\"QKSEJNiffWgiNcwec2Sk\"\n",
        ")\n",
        "\n",
        "result = CLIENT.infer('data/wildfire.jpeg', model_id=\"fireclassify-iuwtq/1\")"
      ],
      "metadata": {
        "id": "9jiDEjRFbFSP"
      },
      "execution_count": 7,
      "outputs": []
    },
    {
      "cell_type": "code",
      "source": [
        "result"
      ],
      "metadata": {
        "colab": {
          "base_uri": "https://localhost:8080/"
        },
        "id": "C2-3OGZ-eLTw",
        "outputId": "854e7b46-2459-4795-8ff6-e2d785c04c8b"
      },
      "execution_count": 8,
      "outputs": [
        {
          "output_type": "execute_result",
          "data": {
            "text/plain": [
              "{'time': 0.14861238699995738,\n",
              " 'image': {'width': 408, 'height': 612},\n",
              " 'predictions': {'burned': {'confidence': 0.34259530901908875},\n",
              "  'fireandsmoke': {'confidence': 0.6067293882369995},\n",
              "  'normal': {'confidence': 0.2120293378829956}},\n",
              " 'predicted_classes': ['fireandsmoke']}"
            ]
          },
          "metadata": {},
          "execution_count": 8
        }
      ]
    }
  ]
}